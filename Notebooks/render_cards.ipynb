{
 "cells": [
  {
   "cell_type": "code",
   "execution_count": 97,
   "id": "cfeeef65",
   "metadata": {},
   "outputs": [],
   "source": [
    "import sys\n",
    "sys.path.append(\"..\")\n",
    "from deck import Deck\n",
    "from PIL import Image, ImageDraw, ImageFont"
   ]
  },
  {
   "cell_type": "code",
   "execution_count": 98,
   "id": "510ec6cf",
   "metadata": {},
   "outputs": [],
   "source": [
    "card_width = 250\n",
    "card_height = 350\n",
    "fill_background = '#B0B9C6'\n",
    "fill_brown = '#8b4513'\n",
    "fill_light_blue = '#87CEEB'\n",
    "fill_pink = '#9932cc'\n",
    "fill_orange = '#FFA500'\n",
    "fill_red = '#FF0000'\n",
    "fill_yellow = 'FFFF00'\n",
    "fill_green = '#008000'\n",
    "fill_blue = '#0000ff'\n",
    "fill_utility = '#CCFFCC'\n",
    "fill_railroad = '#FFFFFF'\n"
   ]
  },
  {
   "cell_type": "code",
   "execution_count": 99,
   "id": "b83ceb17",
   "metadata": {},
   "outputs": [],
   "source": [
    "def get_color(prop_name):\n",
    "    if prop_name in ['baltic avenue', 'mediterranean avenue']:\n",
    "        return fill_brown\n",
    "    elif prop_name in ['connecticut avenue','oriental avenue', 'vermont avenue']:\n",
    "        return fill_light_blue\n",
    "    elif prop_name in ['st. charles place','virginia avenue','states avenue']:\n",
    "        return fill_pink\n",
    "    elif prop_name in ['new york avenue','st. james place','tennessee avenue']:\n",
    "        return fill_orange\n",
    "    elif prop_name in ['kentucky avenue','indiana avenue','illinois avenue']:\n",
    "        return fill_red\n",
    "    elif prop_name in ['ventnor avenue','marvin gardens','atlantic avenue']:\n",
    "        return fill_yellow\n",
    "    elif prop_name in ['north carolina avenue','pacific avenue','pennsylvania avenue']:\n",
    "        return fill_green\n",
    "    elif prop_name in ['boardwalk','park place']:\n",
    "        return fill_blue\n",
    "    elif prop_name in ['water works','electric company']:\n",
    "        return fill_utility\n",
    "    elif prop_Name in ['short line','b&o railroad','reading railroad','pennsylvania railroad']:\n",
    "        return fill_railroad\n",
    "    else:\n",
    "        return '#000000'"
   ]
  },
  {
   "cell_type": "code",
   "execution_count": 102,
   "id": "04c587ab",
   "metadata": {},
   "outputs": [
    {
     "name": "stdout",
     "output_type": "stream",
     "text": [
      "st. james place\n"
     ]
    }
   ],
   "source": [
    "deck = Deck()\n",
    "sample_property_card = [x for x in deck.cards if x.card_type==2][0]\n",
    "print (sample_property_card.name)"
   ]
  },
  {
   "cell_type": "markdown",
   "id": "8b5330c0",
   "metadata": {},
   "source": [
    "### Rendering for the Basic Property Card"
   ]
  },
  {
   "cell_type": "code",
   "execution_count": 101,
   "id": "3a81901d",
   "metadata": {},
   "outputs": [],
   "source": [
    "\n",
    "font = ImageFont.truetype(\"../Data/GidoleFont/Gidole-Regular.ttf\", size=24)\n",
    "result = Image.new('RGBA', (card_width, card_height))\n",
    "draw = ImageDraw.Draw(result)\n",
    "draw.rounded_rectangle(((0, 0), (250, 350)), 20, fill=fill_background)\n",
    "draw.rectangle(((15,15),(235,335)), fill=None, outline='#000000')\n",
    "draw.rectangle(((25,25),(225,95)), fill=get_color(sample_property_card.name), outline='#000000')\n",
    "\n",
    "##prop_name = 'New York\\nAvenue'\n",
    "prop_text_w, prop_text_h = draw.textsize(sample_property_card.name, font=font)\n",
    "#draw.text((125, 60), \"Baltic\\nAvenue\", fill=(0, 0, 0), align='center')\n",
    "draw.text(((card_width-prop_text_w)/2,10+(95-prop_text_h)/2), sample_property_card.name, fill=\"black\", font=font, align='center')\n",
    "\n",
    "draw.ellipse(((18,18),(60,60)), fill=fill_background, outline ='#000000')\n",
    "monetary_value = str(sample_property_card.monetary_value)\n",
    "mvalue_w, mvalue_h = draw.textsize(monetary_value, font=font)\n",
    "draw.text((18+(60.0-18.0-mvalue_w)/2, 18+(60.0-18.0-mvalue_h)/2), monetary_value, fill='black', font=font)\n",
    "\n",
    "font_rents = ImageFont.truetype(\"../Data/GidoleFont/Gidole-Regular.ttf\", size=20)\n",
    "rent_text = ''\n",
    "for x in sample_property_card.rent_amounts:\n",
    "    rent_text += f'{x[0]} .......... {x[1]}M\\n'\n",
    "rent_text = rent_text[:-1]\n",
    "rent_text_w, rent_text_h = draw.textsize(rent_text,font=font_rents)\n",
    "draw.text(((card_width-rent_text_w)/2,(card_height+95-rent_text_h)/2),rent_text,fill='black',font=font_rents)\n",
    "\n",
    "result.show()"
   ]
  },
  {
   "cell_type": "code",
   "execution_count": null,
   "id": "9e773d79",
   "metadata": {},
   "outputs": [],
   "source": []
  },
  {
   "cell_type": "markdown",
   "id": "085a211a",
   "metadata": {},
   "source": [
    "### Rending for the Money Card"
   ]
  },
  {
   "cell_type": "code",
   "execution_count": null,
   "id": "b721e4ad",
   "metadata": {},
   "outputs": [],
   "source": []
  },
  {
   "cell_type": "markdown",
   "id": "f6308ce6",
   "metadata": {},
   "source": [
    "### Rendering for the Property Wildcards"
   ]
  },
  {
   "cell_type": "code",
   "execution_count": null,
   "id": "7fce8be3",
   "metadata": {},
   "outputs": [],
   "source": []
  },
  {
   "cell_type": "markdown",
   "id": "da653304",
   "metadata": {},
   "source": [
    "### Rendering for the Action Cards"
   ]
  },
  {
   "cell_type": "code",
   "execution_count": null,
   "id": "d4a4e138",
   "metadata": {},
   "outputs": [],
   "source": []
  },
  {
   "cell_type": "markdown",
   "id": "e1442bb0",
   "metadata": {},
   "source": [
    "### Rendering for the Rent Cards"
   ]
  },
  {
   "cell_type": "code",
   "execution_count": null,
   "id": "d6925153",
   "metadata": {},
   "outputs": [],
   "source": []
  },
  {
   "cell_type": "code",
   "execution_count": null,
   "id": "5b7fb717",
   "metadata": {},
   "outputs": [],
   "source": []
  }
 ],
 "metadata": {
  "kernelspec": {
   "display_name": "Python [conda env:root] *",
   "language": "python",
   "name": "conda-root-py"
  },
  "language_info": {
   "codemirror_mode": {
    "name": "ipython",
    "version": 3
   },
   "file_extension": ".py",
   "mimetype": "text/x-python",
   "name": "python",
   "nbconvert_exporter": "python",
   "pygments_lexer": "ipython3",
   "version": "3.9.1"
  }
 },
 "nbformat": 4,
 "nbformat_minor": 5
}
