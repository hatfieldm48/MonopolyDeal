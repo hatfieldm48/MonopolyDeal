{
 "cells": [
  {
   "cell_type": "code",
   "execution_count": 2,
   "id": "cfeeef65",
   "metadata": {},
   "outputs": [],
   "source": [
    "import sys\n",
    "sys.path.append(\"..\")\n",
    "from deck import Deck\n",
    "from PIL import Image, ImageDraw, ImageFont, ImageOps"
   ]
  },
  {
   "cell_type": "code",
   "execution_count": 11,
   "id": "510ec6cf",
   "metadata": {},
   "outputs": [],
   "source": [
    "card_width = 125.0\n",
    "card_height = 1.4 * card_width #350\n",
    "fill_background = '#F8F2ED'\n",
    "fill_brown = '#8b4513'\n",
    "fill_light_blue = '#87CEEB'\n",
    "fill_pink = '#D54273'\n",
    "fill_orange = '#FFA500'\n",
    "fill_red = '#FF0000'\n",
    "fill_yellow = '#FFFF00'\n",
    "fill_green = '#008000'\n",
    "fill_blue = '#0000ff'\n",
    "fill_utility = '#CCFFCC'\n",
    "fill_railroad = '#808080'\n",
    "fill_one = '#F9EAA5'\n",
    "fill_two = '#FBD9BF'\n",
    "fill_three = '#E6DEB4'\n",
    "fill_four = '#B6D5E4'\n",
    "fill_five = '#AE82AF'\n",
    "fill_ten = '#FDB52E'\n"
   ]
  },
  {
   "cell_type": "code",
   "execution_count": 15,
   "id": "4120ca01",
   "metadata": {},
   "outputs": [],
   "source": [
    "def get_text_size(card_width, original_size):\n",
    "    \n",
    "    return int(original_size * card_width / 250.0)"
   ]
  },
  {
   "cell_type": "code",
   "execution_count": 4,
   "id": "cfa2e451",
   "metadata": {},
   "outputs": [],
   "source": [
    "def get_money_color(monetary_value):\n",
    "    if monetary_value==1:\n",
    "        return fill_one\n",
    "    elif monetary_value==2:\n",
    "        return fill_two\n",
    "    elif monetary_value==3:\n",
    "        return fill_three\n",
    "    elif monetary_value==4:\n",
    "        return fill_four\n",
    "    elif monetary_value==5:\n",
    "        return fill_five\n",
    "    elif monetary_value==10:\n",
    "        return fill_ten\n",
    "    else:\n",
    "        return '#000000'"
   ]
  },
  {
   "cell_type": "code",
   "execution_count": 5,
   "id": "b83ceb17",
   "metadata": {},
   "outputs": [],
   "source": [
    "def get_color(prop_name, wild_colors=[]):\n",
    "    \n",
    "    if len(wild_colors) > 0:\n",
    "        if wild_colors[0]=='*':\n",
    "            return '#FFFFFF'\n",
    "        return_colors = []\n",
    "        for c in wild_colors:\n",
    "            if c == 'brown':\n",
    "                return_colors.append(fill_brown)\n",
    "            elif c == 'light blue':\n",
    "                return_colors.append(fill_light_blue)\n",
    "            elif c == 'pink': \n",
    "                return_colors.append(fill_pink)\n",
    "            elif c == 'orange':\n",
    "                return_colors.append(fill_orange)\n",
    "            elif c == 'red':\n",
    "                return_colors.append(fill_red)\n",
    "            elif c == 'yellow':\n",
    "                return_colors.append(fill_yellow)\n",
    "            elif c == 'green':\n",
    "                return_colors.append(fill_green)\n",
    "            elif c == 'dark blue':\n",
    "                return_colors.append(fill_blue)\n",
    "            elif c == 'utilities':\n",
    "                return_colors.append(fill_utility)\n",
    "            elif c == 'railroad':\n",
    "                return_colors.append(fill_railroad)\n",
    "        return return_colors\n",
    "        \n",
    "    if prop_name in ['baltic avenue', 'mediterranean avenue']:\n",
    "        return fill_brown\n",
    "    elif prop_name in ['connecticut avenue','oriental avenue', 'vermont avenue']:\n",
    "        return fill_light_blue\n",
    "    elif prop_name in ['st. charles place','virginia avenue','states avenue']:\n",
    "        return fill_pink\n",
    "    elif prop_name in ['new york avenue','st. james place','tennessee avenue']:\n",
    "        return fill_orange\n",
    "    elif prop_name in ['kentucky avenue','indiana avenue','illinois avenue']:\n",
    "        return fill_red\n",
    "    elif prop_name in ['ventnor avenue','marvin gardens','atlantic avenue']:\n",
    "        return fill_yellow\n",
    "    elif prop_name in ['north carolina avenue','pacific avenue','pennsylvania avenue']:\n",
    "        return fill_green\n",
    "    elif prop_name in ['boardwalk','park place']:\n",
    "        return fill_blue\n",
    "    elif prop_name in ['water works','electric company']:\n",
    "        return fill_utility\n",
    "    elif prop_name in ['short line','b&o railroad','reading railroad','pennsylvania railroad']:\n",
    "        return fill_railroad\n",
    "    else:\n",
    "        return '#000000'"
   ]
  },
  {
   "cell_type": "code",
   "execution_count": 6,
   "id": "04c587ab",
   "metadata": {},
   "outputs": [
    {
     "name": "stdout",
     "output_type": "stream",
     "text": [
      "atlantic avenue\n",
      "3M\n",
      "['dark blue', 'green'] ['#0000ff', '#008000']\n",
      "pass go\n",
      "rent ['utilities', 'railroad']\n"
     ]
    }
   ],
   "source": [
    "deck = Deck()\n",
    "sample_property_card = [x for x in deck.cards if x.card_type==2][0]\n",
    "sample_money_card = [x for x in deck.cards if x.card_type==5][0]\n",
    "sample_property_wildcard = [x for x in deck.cards if x.card_type==3][0]\n",
    "sample_action_card = [x for x in deck.cards if x.card_type==1][0]\n",
    "sample_rent_card = [x for x in deck.cards if x.card_type==4][0]\n",
    "print (sample_property_card.name)\n",
    "print (sample_money_card.name)\n",
    "print (sample_property_wildcard.wild_colors, get_color(sample_property_wildcard.name, sample_property_wildcard.wild_colors))\n",
    "print (sample_action_card.name)\n",
    "print (sample_rent_card.name, sample_rent_card.rent_colors)"
   ]
  },
  {
   "cell_type": "markdown",
   "id": "8b5330c0",
   "metadata": {},
   "source": [
    "### Rendering for the Basic Property Card"
   ]
  },
  {
   "cell_type": "code",
   "execution_count": 7,
   "id": "3a81901d",
   "metadata": {},
   "outputs": [
    {
     "name": "stderr",
     "output_type": "stream",
     "text": [
      "C:\\Users\\hatfi\\AppData\\Local\\Temp\\ipykernel_21020\\2266905575.py:9: DeprecationWarning: textsize is deprecated and will be removed in Pillow 10 (2023-07-01). Use textbbox or textlength instead.\n",
      "  prop_text_w, prop_text_h = draw.textsize(sample_property_card.name, font=font)\n",
      "C:\\Users\\hatfi\\AppData\\Local\\Temp\\ipykernel_21020\\2266905575.py:15: DeprecationWarning: textsize is deprecated and will be removed in Pillow 10 (2023-07-01). Use textbbox or textlength instead.\n",
      "  mvalue_w, mvalue_h = draw.textsize(monetary_value, font=font)\n",
      "C:\\Users\\hatfi\\AppData\\Local\\Temp\\ipykernel_21020\\2266905575.py:23: DeprecationWarning: textsize is deprecated and will be removed in Pillow 10 (2023-07-01). Use textbbox or textlength instead.\n",
      "  rent_text_w, rent_text_h = draw.textsize(rent_text,font=font_rents)\n"
     ]
    }
   ],
   "source": [
    "\n",
    "font = ImageFont.truetype(\"../Data/GidoleFont/Gidole-Regular.ttf\", size=24)\n",
    "result = Image.new('RGBA', (card_width, card_height))\n",
    "draw = ImageDraw.Draw(result)\n",
    "draw.rounded_rectangle(((0, 0), (250, 350)), 20, fill=fill_background)\n",
    "draw.rectangle(((15,15),(235,335)), fill=None, outline='#000000')\n",
    "draw.rectangle(((25,25),(225,95)), fill=get_color(sample_property_card.name), outline='#000000')\n",
    "\n",
    "##prop_name = 'New York\\nAvenue'\n",
    "prop_text_w, prop_text_h = draw.textsize(sample_property_card.name, font=font)\n",
    "#draw.text((125, 60), \"Baltic\\nAvenue\", fill=(0, 0, 0), align='center')\n",
    "draw.text(((card_width-prop_text_w)/2,10+(95-prop_text_h)/2), sample_property_card.name, fill=\"black\", font=font, align='center')\n",
    "\n",
    "draw.ellipse(((18,18),(60,60)), fill=fill_background, outline ='#000000')\n",
    "monetary_value = str(sample_property_card.monetary_value)\n",
    "mvalue_w, mvalue_h = draw.textsize(monetary_value, font=font)\n",
    "draw.text((18+(60.0-18.0-mvalue_w)/2, 18+(60.0-18.0-mvalue_h)/2), monetary_value, fill='black', font=font)\n",
    "\n",
    "font_rents = ImageFont.truetype(\"../Data/GidoleFont/Gidole-Regular.ttf\", size=20)\n",
    "rent_text = ''\n",
    "for x in sample_property_card.rent_amounts:\n",
    "    rent_text += f'{x[0]} .......... {x[1]}M\\n'\n",
    "rent_text = rent_text[:-1]\n",
    "rent_text_w, rent_text_h = draw.textsize(rent_text,font=font_rents)\n",
    "draw.text(((card_width-rent_text_w)/2,(card_height+95-rent_text_h)/2),rent_text,fill='black',font=font_rents)\n",
    "\n",
    "result.show()"
   ]
  },
  {
   "cell_type": "code",
   "execution_count": 16,
   "id": "9e773d79",
   "metadata": {},
   "outputs": [
    {
     "name": "stderr",
     "output_type": "stream",
     "text": [
      "C:\\Users\\hatfi\\AppData\\Local\\Temp\\ipykernel_21020\\468826734.py:26: DeprecationWarning: textsize is deprecated and will be removed in Pillow 10 (2023-07-01). Use textbbox or textlength instead.\n",
      "  prop_text_w, prop_text_h = draw.textsize(sample_property_card.name, font=font)\n",
      "C:\\Users\\hatfi\\AppData\\Local\\Temp\\ipykernel_21020\\468826734.py:34: DeprecationWarning: textsize is deprecated and will be removed in Pillow 10 (2023-07-01). Use textbbox or textlength instead.\n",
      "  mvalue_w, mvalue_h = draw.textsize(monetary_value, font=font)\n",
      "C:\\Users\\hatfi\\AppData\\Local\\Temp\\ipykernel_21020\\468826734.py:42: DeprecationWarning: textsize is deprecated and will be removed in Pillow 10 (2023-07-01). Use textbbox or textlength instead.\n",
      "  rent_text_w, rent_text_h = draw.textsize(rent_text,font=font_rents)\n"
     ]
    }
   ],
   "source": [
    "## WITH SCALING\n",
    "border_distance = 0.06 * card_width\n",
    "proprety_rect_distance_topleft = 0.1 * card_width\n",
    "property_rect_width = 0.8 * card_width\n",
    "property_rect_height = 0.28 * card_width\n",
    "property_rect_text_distance_top = 0.38 * card_width\n",
    "property_rect_text_distance_buffer = 0.04 * card_width\n",
    "property_money_circle_distance_topleft = 0.072 * card_width\n",
    "property_money_circle_diameter = 0.168 * card_width\n",
    "property_money_text_distance_topleft = 0.168 * card_width\n",
    "property_money_text_distance_topleft_buffer = 0.072 * card_width\n",
    "\n",
    "\n",
    "font = ImageFont.truetype(\"../Data/GidoleFont/Gidole-Regular.ttf\", size=get_text_size(card_width, 24))\n",
    "result = Image.new('RGBA', (int(card_width), int(card_height)))\n",
    "draw = ImageDraw.Draw(result)\n",
    "draw.rounded_rectangle(((0, 0), (card_width, card_height)), 20, fill=fill_background)\n",
    "draw.rectangle(((border_distance,border_distance),\n",
    "                (card_width - border_distance,card_height - border_distance)), \n",
    "               fill=None, outline='#000000')\n",
    "draw.rectangle(((proprety_rect_distance_topleft,proprety_rect_distance_topleft),\n",
    "                (card_width - proprety_rect_distance_topleft,proprety_rect_distance_topleft + property_rect_height)), \n",
    "               fill=get_color(sample_property_card.name), outline='#000000')\n",
    "\n",
    "##prop_name = 'New York\\nAvenue'\n",
    "prop_text_w, prop_text_h = draw.textsize(sample_property_card.name, font=font)\n",
    "#draw.text((125, 60), \"Baltic\\nAvenue\", fill=(0, 0, 0), align='center')\n",
    "draw.text(((card_width-prop_text_w)/2,property_rect_text_distance_buffer+(property_rect_text_distance_top-prop_text_h)/2), sample_property_card.name, fill=\"black\", font=font, align='center')\n",
    "\n",
    "draw.ellipse(((property_money_circle_distance_topleft,property_money_circle_distance_topleft),\n",
    "              (property_money_circle_distance_topleft+property_money_circle_diameter,property_money_circle_distance_topleft+property_money_circle_diameter)),\n",
    "             fill=fill_background, outline ='#000000')\n",
    "monetary_value = str(sample_property_card.monetary_value)\n",
    "mvalue_w, mvalue_h = draw.textsize(monetary_value, font=font)\n",
    "draw.text((property_money_text_distance_topleft_buffer+(property_money_text_distance_topleft-mvalue_w)/2, property_money_text_distance_topleft_buffer+(property_money_text_distance_topleft-mvalue_h)/2), monetary_value, fill='black', font=font)\n",
    "\n",
    "font_rents = ImageFont.truetype(\"../Data/GidoleFont/Gidole-Regular.ttf\", size=get_text_size(card_width, 20))\n",
    "rent_text = ''\n",
    "for x in sample_property_card.rent_amounts:\n",
    "    rent_text += f'{x[0]} .......... {x[1]}M\\n'\n",
    "rent_text = rent_text[:-1]\n",
    "rent_text_w, rent_text_h = draw.textsize(rent_text,font=font_rents)\n",
    "draw.text(((card_width-rent_text_w)/2,(card_height+property_rect_text_distance_top-rent_text_h)/2),rent_text,fill='black',font=font_rents)\n",
    "\n",
    "result.show()"
   ]
  },
  {
   "cell_type": "markdown",
   "id": "085a211a",
   "metadata": {},
   "source": [
    "### Rendering for the Money Card"
   ]
  },
  {
   "cell_type": "code",
   "execution_count": 7,
   "id": "b721e4ad",
   "metadata": {},
   "outputs": [
    {
     "name": "stderr",
     "output_type": "stream",
     "text": [
      "C:\\Users\\572784\\AppData\\Local\\Temp\\1/ipykernel_292516/433701626.py:12: DeprecationWarning: textsize is deprecated and will be removed in Pillow 10 (2023-07-01). Use textbbox or textlength instead.\n",
      "  mvalue_w, mvalue_h = draw.textsize(monetary_value, font=font)\n",
      "C:\\Users\\572784\\AppData\\Local\\Temp\\1/ipykernel_292516/433701626.py:14: DeprecationWarning: textsize is deprecated and will be removed in Pillow 10 (2023-07-01). Use textbbox or textlength instead.\n",
      "  mlargevalue_w, mlargevalue_h = draw.textsize(monetary_value, font=font_large)\n"
     ]
    }
   ],
   "source": [
    "result = Image.new('RGBA', (card_height, card_width))\n",
    "draw = ImageDraw.Draw(result)\n",
    "fill_money = get_money_color(sample_money_card.monetary_value)\n",
    "draw.rounded_rectangle(((0, 0), (350, 250)), 20, fill=fill_money)\n",
    "draw.rectangle(((15,15),(335, 235)), fill=None, outline='#000000')\n",
    "\n",
    "draw.ellipse(((350-60,18),(350-18,60)), fill=fill_money, outline ='#000000')\n",
    "draw.ellipse(((18,250-60),(60,250-18)), fill=fill_money, outline ='#000000')\n",
    "draw.ellipse(((175-80,125-80),(175+80,125+80)), fill=fill_money, outline ='#000000')\n",
    "\n",
    "monetary_value = str(sample_money_card.monetary_value)\n",
    "mvalue_w, mvalue_h = draw.textsize(monetary_value, font=font)\n",
    "font_large = ImageFont.truetype(\"../Data/GidoleFont/Gidole-Regular.ttf\", size=80)\n",
    "mlargevalue_w, mlargevalue_h = draw.textsize(monetary_value, font=font_large)\n",
    "draw.text((350-60+(60.0-18.0-mvalue_w)/2, 18+(60.0-18.0-mvalue_h)/2), monetary_value, fill='black', font=font)\n",
    "draw.text((18+(60.0-18.0-mvalue_w)/2, 250-60+(60.0-18.0-mvalue_h)/2), monetary_value, fill='black', font=font)\n",
    "draw.text((175-(mlargevalue_w/2), 125-(mlargevalue_h/2)), monetary_value, fill='black', font=font_large)\n",
    "\n",
    "result.show()"
   ]
  },
  {
   "cell_type": "markdown",
   "id": "f6308ce6",
   "metadata": {},
   "source": [
    "### Rendering for the Property Wildcards"
   ]
  },
  {
   "cell_type": "code",
   "execution_count": 8,
   "id": "7fce8be3",
   "metadata": {},
   "outputs": [
    {
     "name": "stderr",
     "output_type": "stream",
     "text": [
      "C:\\Users\\572784\\AppData\\Local\\Temp\\1/ipykernel_292516/4112341574.py:26: DeprecationWarning: textsize is deprecated and will be removed in Pillow 10 (2023-07-01). Use textbbox or textlength instead.\n",
      "  mvalue_w, mvalue_h = draw.textsize(monetary_value, font=font)\n",
      "C:\\Users\\572784\\AppData\\Local\\Temp\\1/ipykernel_292516/4112341574.py:43: DeprecationWarning: textsize is deprecated and will be removed in Pillow 10 (2023-07-01). Use textbbox or textlength instead.\n",
      "  rent_text_w, rent_text_h = draw.textsize(rent_text,font=font_rents)\n",
      "C:\\Users\\572784\\AppData\\Local\\Temp\\1/ipykernel_292516/4112341574.py:52: DeprecationWarning: textsize is deprecated and will be removed in Pillow 10 (2023-07-01). Use textbbox or textlength instead.\n",
      "  rent_text_w, rent_text_h = draw.textsize(rent_text,font=font_rents)\n"
     ]
    }
   ],
   "source": [
    "font = ImageFont.truetype(\"../Data/GidoleFont/Gidole-Regular.ttf\", size=24)\n",
    "result = Image.new('RGBA', (card_width, card_height))\n",
    "draw = ImageDraw.Draw(result)\n",
    "draw.rounded_rectangle(((0, 0), (250, 350)), 20, fill=fill_background)\n",
    "draw.rectangle(((15,15),(235,335)), fill=None, outline='#000000')\n",
    "\n",
    "if (sample_property_wildcard.wild_colors[0]=='*'):\n",
    "    ## Make the top bar and write Property Wild Card\n",
    "    draw.rectangle(((25,25),(225,95)), fill=fill_background, outline='#000000')\n",
    "    \n",
    "    wildcard_text = 'Property Wild Card'\n",
    "    prop_text_w, prop_text_h = draw.textsize(wildcard_text, font=font)\n",
    "    draw.text(((card_width-prop_text_w)/2,10+(95-prop_text_h)/2), wildcard_text, fill=\"black\", font=font, align='center')\n",
    "\n",
    "    result.show()\n",
    "\n",
    "else:\n",
    "    ## Making the top and bottom color blocks\n",
    "    wild_color_fills = get_color(sample_property_wildcard.name, sample_property_wildcard.wild_colors)\n",
    "    draw.rectangle(((25,25),(225,95)), fill=wild_color_fills[0], outline='#000000')\n",
    "    draw.rectangle(((25,350-95),(225,350-25)), fill=wild_color_fills[1], outline='#000000')\n",
    "\n",
    "    ## Making the top money circle\n",
    "    draw.ellipse(((18,18),(60,60)), fill=fill_background, outline ='#000000')\n",
    "    monetary_value = str(sample_property_wildcard.monetary_value)\n",
    "    mvalue_w, mvalue_h = draw.textsize(monetary_value, font=font)\n",
    "    draw.text((18+(60.0-18.0-mvalue_w)/2, 18+(60.0-18.0-mvalue_h)/2), monetary_value, fill='black', font=font)\n",
    "\n",
    "    ## Making the bottom upside down money circle\n",
    "    draw.ellipse(((250-60,350-60),(250-18,350-18)), fill=fill_background, outline ='#000000')\n",
    "    txt = Image.new('L', (60-18, 60-18))\n",
    "    d = ImageDraw.Draw(txt)\n",
    "    d.text(((60-18)/2, (60-18)/2), monetary_value, font=font, fill=255)\n",
    "    w=txt.rotate(180,  expand=1)\n",
    "    result.paste( ImageOps.colorize(w, (0,0,0), (0,0,0)), (250-21-18-mvalue_w,350-21-18-int(mvalue_h/2)),  w)\n",
    "\n",
    "    font_rents = ImageFont.truetype(\"../Data/GidoleFont/Gidole-Regular.ttf\", size=20)\n",
    "    ## First rent\n",
    "    rent_text = ''\n",
    "    for x in sample_property_wildcard.wild_rent_amounts[0]:\n",
    "        rent_text += f'{x[0]} ... {x[1]}M\\n'\n",
    "    rent_text = rent_text[:-1]\n",
    "    rent_text_w, rent_text_h = draw.textsize(rent_text,font=font_rents)\n",
    "    draw.text(((card_width-rent_text_w)*3/4,(card_height-rent_text_h)/2),rent_text,fill='black',font=font_rents)\n",
    "    ## Second rent\n",
    "    rent_flip = Image.new('L', (125, 350-95-95))\n",
    "    d = ImageDraw.Draw(rent_flip)\n",
    "    rent_text = ''\n",
    "    for x in sample_property_wildcard.wild_rent_amounts[1]:\n",
    "        rent_text += f'{x[0]} ... {x[1]}M\\n'\n",
    "    rent_text = rent_text[:-1]\n",
    "    rent_text_w, rent_text_h = draw.textsize(rent_text,font=font_rents)\n",
    "    #draw.text(((card_width-rent_text_w)/4,(card_height-rent_text_h)/2),rent_text,fill='black',font=font_rents)\n",
    "    d.text(((0, (350-95-95)//2)), rent_text, font=font_rents, fill=255)\n",
    "    #d.text(((0, (350-95-95)//2)), rent_text, font=font_rents, fill=255)\n",
    "    r_flip = rent_flip.rotate(180, expand=1)\n",
    "    result.paste( ImageOps.colorize(r_flip, (0,0,0), (0,0,0)), (0, 350-95-95), r_flip)\n",
    "\n",
    "    result.show()"
   ]
  },
  {
   "cell_type": "markdown",
   "id": "da653304",
   "metadata": {},
   "source": [
    "### Rendering for the Action Cards"
   ]
  },
  {
   "cell_type": "code",
   "execution_count": 18,
   "id": "d4a4e138",
   "metadata": {},
   "outputs": [
    {
     "name": "stderr",
     "output_type": "stream",
     "text": [
      "C:\\Users\\572784\\AppData\\Local\\Temp\\1/ipykernel_292516/719461175.py:14: DeprecationWarning: textsize is deprecated and will be removed in Pillow 10 (2023-07-01). Use textbbox or textlength instead.\n",
      "  mvalue_w, mvalue_h = draw.textsize(monetary_value, font=font)\n",
      "C:\\Users\\572784\\AppData\\Local\\Temp\\1/ipykernel_292516/719461175.py:17: DeprecationWarning: textsize is deprecated and will be removed in Pillow 10 (2023-07-01). Use textbbox or textlength instead.\n",
      "  mlargevalue_w, mlargevalue_h = draw.textsize(display_name, font=font_large)\n"
     ]
    }
   ],
   "source": [
    "font = ImageFont.truetype(\"../Data/GidoleFont/Gidole-Regular.ttf\", size=24)\n",
    "result = Image.new('RGBA', (card_width, card_height))\n",
    "draw = ImageDraw.Draw(result)\n",
    "fill_money = get_money_color(sample_action_card.monetary_value)\n",
    "draw.rounded_rectangle(((0, 0), (250, 350)), 20, fill=fill_money)\n",
    "draw.rectangle(((15,15),(235, 335)), fill=None, outline='#000000')\n",
    "#draw.rectangle(((25,25),(225,95)), fill=fill_money, outline='#000000')\n",
    "\n",
    "draw.ellipse(((18,18),(60,60)), fill=fill_money, outline ='#000000')\n",
    "draw.ellipse(((250-60,350-60),(250-18,350-18)), fill=fill_money, outline ='#000000')\n",
    "draw.ellipse(((125-80,175-80),(125+80,175+80)), fill=fill_money, outline ='#000000')\n",
    "\n",
    "monetary_value = str(sample_action_card.monetary_value)\n",
    "mvalue_w, mvalue_h = draw.textsize(monetary_value, font=font)\n",
    "font_large = ImageFont.truetype(\"../Data/GidoleFont/Gidole-Regular.ttf\", size=30)\n",
    "display_name = sample_action_card.name.replace(' ','\\n')\n",
    "mlargevalue_w, mlargevalue_h = draw.textsize(display_name, font=font_large)\n",
    "draw.text((18+(60.0-18.0-mvalue_w)/2, 18+(60.0-18.0-mvalue_h)/2), monetary_value, fill='black', font=font)\n",
    "draw.text((250-60+(60.0-18.0-mvalue_w)/2, 350-60+(60.0-18.0-mvalue_h)/2), monetary_value, fill='black', font=font)\n",
    "draw.text((125-(mlargevalue_w/2), 175-(mlargevalue_h/2)), display_name, fill='black', font=font_large)\n",
    "\n",
    "result.show()"
   ]
  },
  {
   "cell_type": "markdown",
   "id": "e1442bb0",
   "metadata": {},
   "source": [
    "### Rendering for the Rent Cards"
   ]
  },
  {
   "cell_type": "code",
   "execution_count": 21,
   "id": "d6925153",
   "metadata": {},
   "outputs": [
    {
     "name": "stderr",
     "output_type": "stream",
     "text": [
      "C:\\Users\\572784\\AppData\\Local\\Temp\\1/ipykernel_292516/3880485275.py:13: DeprecationWarning: textsize is deprecated and will be removed in Pillow 10 (2023-07-01). Use textbbox or textlength instead.\n",
      "  mvalue_w, mvalue_h = draw.textsize(monetary_value, font=font)\n",
      "C:\\Users\\572784\\AppData\\Local\\Temp\\1/ipykernel_292516/3880485275.py:18: DeprecationWarning: textsize is deprecated and will be removed in Pillow 10 (2023-07-01). Use textbbox or textlength instead.\n",
      "  mlargevalue_w, mlargevalue_h = draw.textsize(display_name, font=font_large)\n"
     ]
    }
   ],
   "source": [
    "font = ImageFont.truetype(\"../Data/GidoleFont/Gidole-Regular.ttf\", size=24)\n",
    "result = Image.new('RGBA', (card_width, card_height))\n",
    "draw = ImageDraw.Draw(result)\n",
    "fill_money = get_money_color(sample_rent_card.monetary_value)\n",
    "draw.rounded_rectangle(((0, 0), (250, 350)), 20, fill=fill_money)\n",
    "draw.rectangle(((15,15),(235, 335)), fill=None, outline='#000000')\n",
    "\n",
    "draw.ellipse(((18,18),(60,60)), fill=fill_money, outline ='#000000')\n",
    "draw.ellipse(((250-60,350-60),(250-18,350-18)), fill=fill_money, outline ='#000000')\n",
    "draw.ellipse(((125-80,175-80),(125+80,175+80)), fill=fill_money, outline ='#000000')\n",
    "\n",
    "monetary_value = str(sample_rent_card.monetary_value)\n",
    "mvalue_w, mvalue_h = draw.textsize(monetary_value, font=font)\n",
    "font_large = ImageFont.truetype(\"../Data/GidoleFont/Gidole-Regular.ttf\", size=30)\n",
    "display_name = sample_rent_card.name.replace(' ','\\n')\n",
    "for c in sample_rent_card.rent_colors:\n",
    "    display_name += '\\n' + c\n",
    "mlargevalue_w, mlargevalue_h = draw.textsize(display_name, font=font_large)\n",
    "draw.text((18+(60.0-18.0-mvalue_w)/2, 18+(60.0-18.0-mvalue_h)/2), monetary_value, fill='black', font=font)\n",
    "draw.text((250-60+(60.0-18.0-mvalue_w)/2, 350-60+(60.0-18.0-mvalue_h)/2), monetary_value, fill='black', font=font)\n",
    "draw.text((125-(mlargevalue_w/2), 175-(mlargevalue_h/2)), display_name, fill='black', font=font_large)\n",
    "\n",
    "result.show()"
   ]
  },
  {
   "cell_type": "code",
   "execution_count": null,
   "id": "5b7fb717",
   "metadata": {},
   "outputs": [],
   "source": []
  }
 ],
 "metadata": {
  "kernelspec": {
   "display_name": "Python 3 (ipykernel)",
   "language": "python",
   "name": "python3"
  },
  "language_info": {
   "codemirror_mode": {
    "name": "ipython",
    "version": 3
   },
   "file_extension": ".py",
   "mimetype": "text/x-python",
   "name": "python",
   "nbconvert_exporter": "python",
   "pygments_lexer": "ipython3",
   "version": "3.10.4"
  }
 },
 "nbformat": 4,
 "nbformat_minor": 5
}
